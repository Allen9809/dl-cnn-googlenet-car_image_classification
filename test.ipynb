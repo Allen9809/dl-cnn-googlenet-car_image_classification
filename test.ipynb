{
 "cells": [
  {
   "cell_type": "code",
   "execution_count": 18,
   "id": "e429ffc7",
   "metadata": {},
   "outputs": [
    {
     "data": {
      "text/plain": [
       "DeltaGenerator()"
      ]
     },
     "execution_count": 18,
     "metadata": {},
     "output_type": "execute_result"
    }
   ],
   "source": [
    "import streamlit as st\n",
    "import torch\n",
    "from torchvision import transforms\n",
    "from PIL import Image\n",
    "import os\n",
    "\n",
    "os.environ['TORCH_USE_NNPACK'] = '0'\n",
    "\n",
    "# Load car classes\n",
    "with open('car_classes.txt', 'r') as f:\n",
    "    car_classes = f.read().splitlines()\n",
    "\n",
    "# Load model artifact\n",
    "model_path = './car_model.pth'\n",
    "model = torch.load(model_path, map_location='cpu')\n",
    "model.eval()\n",
    "\n",
    "# Define input preprocessing\n",
    "preprocess = transforms.Compose([\n",
    "    transforms.Resize((400, 400)),\n",
    "    transforms.ToTensor(),\n",
    "    transforms.Normalize(mean=[0.485, 0.456, 0.406], std=[0.229, 0.224, 0.225]),\n",
    "])\n",
    "\n",
    "def model_predict(img, model):\n",
    "    img = preprocess(img)  # Apply preprocessing\n",
    "    img = img.unsqueeze(0)  # Add batch dimension\n",
    "    with torch.no_grad():\n",
    "        preds = model(img)\n",
    "    return preds\n",
    "\n",
    "# Streamlit application\n",
    "st.title(\"CNN Image Classification using Pretrained GoogleNet\")\n",
    "\n",
    "uploaded_file = st.file_uploader(\"Choose an image...\", type=[\"jpg\", \"jpeg\", \"png\", \"gif\", \"bmp\", \"tiff\", \"webp\", \"svg\"])\n",
    "\n",
    "if uploaded_file is not None:\n",
    "    img = Image.open(uploaded_file)\n",
    "    st.image(img, caption='Uploaded Image.', use_column_width=True)\n",
    "    st.write(\"\")\n",
    "    st.write(\"Classifying...\")\n",
    "\n",
    "    preds = model_predict(img, model)\n",
    "    result = torch.argmax(preds, dim=1).item()\n",
    "    st.write(f\"Result: {car_classes[result]}\")\n",
    "\n",
    "# Displaying common image types and their descriptions\n",
    "st.header(\"Common Image Types and Descriptions\")"
   ]
  },
  {
   "cell_type": "code",
   "execution_count": 17,
   "id": "a89b8c98",
   "metadata": {},
   "outputs": [
    {
     "name": "stdout",
     "output_type": "stream",
     "text": [
      "Predicted class: BMW X5 SUV 2007\n"
     ]
    }
   ],
   "source": [
    "import torch\n",
    "from torchvision import transforms\n",
    "from PIL import Image\n",
    "import os\n",
    "\n",
    "os.environ['TORCH_USE_NNPACK'] = '0'\n",
    "\n",
    "# Load car classes\n",
    "with open('car_classes.txt', 'r') as f:\n",
    "    car_classes = f.read().splitlines()\n",
    "\n",
    "# Load model artifact\n",
    "model_path = './car_model.pth'\n",
    "model = torch.load(model_path, map_location='cpu')\n",
    "model.eval()\n",
    "\n",
    "# Define input preprocessing\n",
    "preprocess = transforms.Compose([\n",
    "    transforms.Resize((400, 400)),\n",
    "    transforms.ToTensor(),\n",
    "    transforms.Normalize(mean=[0.485, 0.456, 0.406], std=[0.229, 0.224, 0.225]),\n",
    "])\n",
    "\n",
    "def predict_image(image_path, model, preprocess):\n",
    "    img = Image.open(image_path)\n",
    "    img = preprocess(img)  # Apply preprocessing\n",
    "    img = img.unsqueeze(0)  # Add batch dimension\n",
    "\n",
    "    with torch.no_grad():\n",
    "        preds = model(img)\n",
    "\n",
    "    result = torch.argmax(preds, dim=1).item()\n",
    "    return car_classes[result]\n",
    "\n",
    "# Example usage\n",
    "image_path = 'sample.jpeg'  # Replace with your image path\n",
    "predicted_class = predict_image(image_path, model, preprocess)\n",
    "print(f\"Predicted class: {predicted_class}\")\n"
   ]
  }
 ],
 "metadata": {
  "kernelspec": {
   "display_name": "Python 3 (ipykernel)",
   "language": "python",
   "name": "python3"
  },
  "language_info": {
   "codemirror_mode": {
    "name": "ipython",
    "version": 3
   },
   "file_extension": ".py",
   "mimetype": "text/x-python",
   "name": "python",
   "nbconvert_exporter": "python",
   "pygments_lexer": "ipython3",
   "version": "3.9.12"
  }
 },
 "nbformat": 4,
 "nbformat_minor": 5
}
